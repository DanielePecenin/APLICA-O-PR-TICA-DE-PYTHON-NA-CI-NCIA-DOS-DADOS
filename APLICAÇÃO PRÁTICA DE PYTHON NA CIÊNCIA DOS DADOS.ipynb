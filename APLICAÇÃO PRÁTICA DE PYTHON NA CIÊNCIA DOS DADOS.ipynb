{
 "cells": [
  {
   "cell_type": "markdown",
   "id": "cd44da6e-8519-4db1-b6b9-ba9d4a41484b",
   "metadata": {},
   "source": [
    "# Jupyter Notebook - [Dani]\n",
    "\n",
    "**Atividade:** Exploração inicial dos dados do estudo de caso.  \n",
    "_O que estou achando da atividade até aqui?_\n"
   ]
  },
  {
   "cell_type": "code",
   "execution_count": 2,
   "id": "29753582-05f8-4da1-8d87-19ca74614d81",
   "metadata": {},
   "outputs": [],
   "source": [
    "import pandas as pd"
   ]
  },
  {
   "cell_type": "code",
   "execution_count": 4,
   "id": "61ee3cb6-f34f-4d97-ba64-540337cfce47",
   "metadata": {},
   "outputs": [
    {
     "name": "stdout",
     "output_type": "stream",
     "text": [
      "              ID  LIMIT_BAL  SEX  EDUCATION  MARRIAGE  AGE PAY_1  PAY_2  \\\n",
      "0  798fc410-45c1      20000    2          2         1   24     2      2   \n",
      "1  8a8c8f3b-8eb4     120000    2          2         2   26    -1      2   \n",
      "2  85698822-43f5      90000    2          2         2   34     0      0   \n",
      "3  0737c11b-be42      50000    2          2         1   37     0      0   \n",
      "4  3b7f77cc-dbc0      50000    1          2         1   57    -1      0   \n",
      "\n",
      "   PAY_3  PAY_4  ...  BILL_AMT4  BILL_AMT5  BILL_AMT6  PAY_AMT1  PAY_AMT2  \\\n",
      "0     -1     -1  ...          0          0          0         0       689   \n",
      "1      0      0  ...       3272       3455       3261         0      1000   \n",
      "2      0      0  ...      14331      14948      15549      1518      1500   \n",
      "3      0      0  ...      28314      28959      29547      2000      2019   \n",
      "4     -1      0  ...      20940      19146      19131      2000     36681   \n",
      "\n",
      "   PAY_AMT3  PAY_AMT4  PAY_AMT5  PAY_AMT6  default payment next month  \n",
      "0         0         0         0         0                           1  \n",
      "1      1000      1000         0      2000                           1  \n",
      "2      1000      1000      1000      5000                           0  \n",
      "3      1200      1100      1069      1000                           0  \n",
      "4     10000      9000       689       679                           0  \n",
      "\n",
      "[5 rows x 25 columns]\n"
     ]
    }
   ],
   "source": [
    "df = pd.read_excel(r\"C:\\Users\\danip\\Downloads\\default_of_credit_card_clients__courseware_version_1_21_19.xls\")\n",
    "print(df.head())\n"
   ]
  },
  {
   "cell_type": "code",
   "execution_count": 5,
   "id": "5e14e70d-e5fc-4073-9cc2-65e7999c32ee",
   "metadata": {},
   "outputs": [
    {
     "name": "stdout",
     "output_type": "stream",
     "text": [
      "Número de linhas: 30000\n",
      "Número de colunas: 25\n"
     ]
    }
   ],
   "source": [
    "linhas, colunas = df.shape\n",
    "print(\"Número de linhas:\", linhas)\n",
    "print(\"Número de colunas:\", colunas)"
   ]
  },
  {
   "cell_type": "code",
   "execution_count": 6,
   "id": "2fbdcb81-29be-43dc-b093-a10432977c77",
   "metadata": {},
   "outputs": [
    {
     "name": "stdout",
     "output_type": "stream",
     "text": [
      "ID                            object\n",
      "LIMIT_BAL                      int64\n",
      "SEX                            int64\n",
      "EDUCATION                      int64\n",
      "MARRIAGE                       int64\n",
      "AGE                            int64\n",
      "PAY_1                         object\n",
      "PAY_2                          int64\n",
      "PAY_3                          int64\n",
      "PAY_4                          int64\n",
      "PAY_5                          int64\n",
      "PAY_6                          int64\n",
      "BILL_AMT1                      int64\n",
      "BILL_AMT2                      int64\n",
      "BILL_AMT3                      int64\n",
      "BILL_AMT4                      int64\n",
      "BILL_AMT5                      int64\n",
      "BILL_AMT6                      int64\n",
      "PAY_AMT1                       int64\n",
      "PAY_AMT2                       int64\n",
      "PAY_AMT3                       int64\n",
      "PAY_AMT4                       int64\n",
      "PAY_AMT5                       int64\n",
      "PAY_AMT6                       int64\n",
      "default payment next month     int64\n",
      "dtype: object\n"
     ]
    }
   ],
   "source": [
    "print(df.dtypes)"
   ]
  },
  {
   "cell_type": "code",
   "execution_count": 7,
   "id": "9309a0a9-0090-4d96-841f-5806f39e953f",
   "metadata": {},
   "outputs": [
    {
     "name": "stdout",
     "output_type": "stream",
     "text": [
      "\n",
      "Colunas categóricas:\n",
      "['ID', 'PAY_1']\n",
      "\n",
      "Colunas numéricas:\n",
      "['LIMIT_BAL', 'SEX', 'EDUCATION', 'MARRIAGE', 'AGE', 'PAY_2', 'PAY_3', 'PAY_4', 'PAY_5', 'PAY_6', 'BILL_AMT1', 'BILL_AMT2', 'BILL_AMT3', 'BILL_AMT4', 'BILL_AMT5', 'BILL_AMT6', 'PAY_AMT1', 'PAY_AMT2', 'PAY_AMT3', 'PAY_AMT4', 'PAY_AMT5', 'PAY_AMT6', 'default payment next month']\n"
     ]
    }
   ],
   "source": [
    "colunas_categoricas = df.select_dtypes(include='object').columns\n",
    "colunas_numericas = df.select_dtypes(include='number').columns\n",
    "\n",
    "print(\"\\nColunas categóricas:\")\n",
    "print(colunas_categoricas.tolist())\n",
    "\n",
    "print(\"\\nColunas numéricas:\")\n",
    "print(colunas_numericas.tolist())"
   ]
  },
  {
   "cell_type": "code",
   "execution_count": 8,
   "id": "0aa8a9d9-15e5-420b-a4cd-e223eafd9ff7",
   "metadata": {},
   "outputs": [
    {
     "name": "stdout",
     "output_type": "stream",
     "text": [
      "\n",
      "Estatísticas descritivas das colunas numéricas:\n",
      "            LIMIT_BAL           SEX     EDUCATION      MARRIAGE           AGE  \\\n",
      "count    30000.000000  30000.000000  30000.000000  30000.000000  30000.000000   \n",
      "mean    165760.989333      1.586500      1.833333      1.535900     35.108800   \n",
      "std     130158.590432      0.513348      0.807699      0.542698      9.851592   \n",
      "min          0.000000      0.000000      0.000000      0.000000      0.000000   \n",
      "25%      50000.000000      1.000000      1.000000      1.000000     28.000000   \n",
      "50%     140000.000000      2.000000      2.000000      2.000000     34.000000   \n",
      "75%     240000.000000      2.000000      2.000000      2.000000     41.000000   \n",
      "max    1000000.000000      2.000000      6.000000      3.000000     79.000000   \n",
      "\n",
      "              PAY_2         PAY_3         PAY_4         PAY_5         PAY_6  \\\n",
      "count  30000.000000  30000.000000  30000.000000  30000.000000  30000.000000   \n",
      "mean      -0.132867     -0.164333     -0.219300     -0.263900     -0.288033   \n",
      "std        1.191215      1.191096      1.162348      1.127519      1.144981   \n",
      "min       -2.000000     -2.000000     -2.000000     -2.000000     -2.000000   \n",
      "25%       -1.000000     -1.000000     -1.000000     -1.000000     -1.000000   \n",
      "50%        0.000000      0.000000      0.000000      0.000000      0.000000   \n",
      "75%        0.000000      0.000000      0.000000      0.000000      0.000000   \n",
      "max        8.000000      8.000000      8.000000      8.000000      8.000000   \n",
      "\n",
      "       ...      BILL_AMT4      BILL_AMT5      BILL_AMT6       PAY_AMT1  \\\n",
      "count  ...   30000.000000   30000.000000   30000.000000   30000.000000   \n",
      "mean   ...   42791.362167   39884.398167   38480.350933    5613.321500   \n",
      "std    ...   64090.316188   60606.644833   59406.836932   16539.094312   \n",
      "min    ... -170000.000000  -81334.000000 -339603.000000       0.000000   \n",
      "25%    ...    2034.000000    1534.000000    1080.000000     836.000000   \n",
      "50%    ...   18759.500000   17835.500000   16643.000000    2084.500000   \n",
      "75%    ...   53572.250000   49804.000000   48863.500000    5000.000000   \n",
      "max    ...  891586.000000  927171.000000  961664.000000  873552.000000   \n",
      "\n",
      "           PAY_AMT2       PAY_AMT3       PAY_AMT4       PAY_AMT5  \\\n",
      "count  3.000000e+04   30000.000000   30000.000000   30000.000000   \n",
      "mean   5.855410e+03    5174.387967    4776.089733    4754.749200   \n",
      "std    2.299256e+04   17565.538305   15532.893047   15239.070708   \n",
      "min    0.000000e+00       0.000000       0.000000       0.000000   \n",
      "25%    7.217500e+02     371.000000     223.000000     170.750000   \n",
      "50%    2.000000e+03    1776.000000    1500.000000    1500.000000   \n",
      "75%    5.000000e+03    4500.000000    4000.000000    4000.000000   \n",
      "max    1.684259e+06  896040.000000  621000.000000  426529.000000   \n",
      "\n",
      "            PAY_AMT6  default payment next month  \n",
      "count   30000.000000                30000.000000  \n",
      "mean     5164.223267                    0.218733  \n",
      "std     17712.664703                    0.413394  \n",
      "min         0.000000                    0.000000  \n",
      "25%         9.000000                    0.000000  \n",
      "50%      1500.000000                    0.000000  \n",
      "75%      4000.000000                    0.000000  \n",
      "max    528666.000000                    1.000000  \n",
      "\n",
      "[8 rows x 23 columns]\n"
     ]
    }
   ],
   "source": [
    "print(\"\\nEstatísticas descritivas das colunas numéricas:\")\n",
    "print(df.describe())"
   ]
  },
  {
   "cell_type": "code",
   "execution_count": 9,
   "id": "738839b2-0efb-4bf3-8a27-1a0fd2d86747",
   "metadata": {},
   "outputs": [
    {
     "name": "stdout",
     "output_type": "stream",
     "text": [
      "\n",
      "Frequência das classes nas colunas categóricas:\n",
      "\n",
      "ID - Frequência:\n",
      "ID\n",
      "ad23fe5c-7b09    2\n",
      "1fb3e3e6-a68d    2\n",
      "89f8f447-fca8    2\n",
      "7c9b7473-cc2f    2\n",
      "90330d02-82d9    2\n",
      "                ..\n",
      "2edeb3a6-d38d    1\n",
      "27e11893-92e9    1\n",
      "2b1c282b-441e    1\n",
      "bd737997-0eb0    1\n",
      "15d69f9f-5ad3    1\n",
      "Name: count, Length: 29687, dtype: int64\n",
      "\n",
      "PAY_1 - Frequência:\n",
      "PAY_1\n",
      "0                13402\n",
      "-1                5047\n",
      "1                 3261\n",
      "Not available     3021\n",
      "-2                2476\n",
      "2                 2378\n",
      "3                  292\n",
      "4                   63\n",
      "5                   23\n",
      "8                   17\n",
      "6                   11\n",
      "7                    9\n",
      "Name: count, dtype: int64\n"
     ]
    }
   ],
   "source": [
    "print(\"\\nFrequência das classes nas colunas categóricas:\")\n",
    "for col in colunas_categoricas:\n",
    "    print(f\"\\n{col} - Frequência:\")\n",
    "    print(df[col].value_counts())"
   ]
  },
  {
   "cell_type": "code",
   "execution_count": 10,
   "id": "db6eaaae-5b0c-4141-be73-3b535b283464",
   "metadata": {},
   "outputs": [
    {
     "name": "stdout",
     "output_type": "stream",
     "text": [
      "\n",
      "Verificar se existem dados faltantes:\n",
      "ID                            0\n",
      "LIMIT_BAL                     0\n",
      "SEX                           0\n",
      "EDUCATION                     0\n",
      "MARRIAGE                      0\n",
      "AGE                           0\n",
      "PAY_1                         0\n",
      "PAY_2                         0\n",
      "PAY_3                         0\n",
      "PAY_4                         0\n",
      "PAY_5                         0\n",
      "PAY_6                         0\n",
      "BILL_AMT1                     0\n",
      "BILL_AMT2                     0\n",
      "BILL_AMT3                     0\n",
      "BILL_AMT4                     0\n",
      "BILL_AMT5                     0\n",
      "BILL_AMT6                     0\n",
      "PAY_AMT1                      0\n",
      "PAY_AMT2                      0\n",
      "PAY_AMT3                      0\n",
      "PAY_AMT4                      0\n",
      "PAY_AMT5                      0\n",
      "PAY_AMT6                      0\n",
      "default payment next month    0\n",
      "dtype: int64\n"
     ]
    }
   ],
   "source": [
    "print(\"\\nVerificar se existem dados faltantes:\")\n",
    "print(df.isnull().sum())"
   ]
  },
  {
   "cell_type": "code",
   "execution_count": null,
   "id": "cdb15fbc-2fd4-4857-b00f-0a88b411be72",
   "metadata": {},
   "outputs": [],
   "source": []
  }
 ],
 "metadata": {
  "kernelspec": {
   "display_name": "Python 3 (ipykernel)",
   "language": "python",
   "name": "python3"
  },
  "language_info": {
   "codemirror_mode": {
    "name": "ipython",
    "version": 3
   },
   "file_extension": ".py",
   "mimetype": "text/x-python",
   "name": "python",
   "nbconvert_exporter": "python",
   "pygments_lexer": "ipython3",
   "version": "3.12.7"
  }
 },
 "nbformat": 4,
 "nbformat_minor": 5
}
